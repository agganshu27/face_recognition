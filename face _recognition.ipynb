{
 "cells": [
  {
   "cell_type": "code",
   "execution_count": 1,
   "id": "723e1faa-1dab-4ebf-a968-0c0dbf28ca21",
   "metadata": {},
   "outputs": [],
   "source": [
    "import cv2\n",
    "import numpy as np\n",
    "import face_recognition as fr\n"
   ]
  },
  {
   "cell_type": "code",
   "execution_count": 2,
   "id": "bca94bc9-4a71-4113-968e-7a689f2c1129",
   "metadata": {},
   "outputs": [],
   "source": [
    "video_capture= cv2.VideoCapture(0)"
   ]
  },
  {
   "cell_type": "code",
   "execution_count": 3,
   "id": "ce8c80e1-5acb-4496-b1e2-66e28400c6ef",
   "metadata": {},
   "outputs": [],
   "source": [
    "ilma_image = fr.load_image_file(\"ilma.jpg\")\n"
   ]
  },
  {
   "cell_type": "code",
   "execution_count": 4,
   "id": "581ff064-4a60-4ebb-b057-bcd0a268c5e2",
   "metadata": {},
   "outputs": [],
   "source": [
    "ilma_encoding = fr.face_encodings(ilma_image)[0]\n"
   ]
  },
  {
   "cell_type": "code",
   "execution_count": 5,
   "id": "0a91a87a-4ac6-48aa-a73b-f5d680bbe5c4",
   "metadata": {},
   "outputs": [],
   "source": [
    "anshu_image = fr.load_image_file(\"anshu.jpg\")\n",
    "anshu_encoding = fr.face_encodings(anshu_image)[0]\n"
   ]
  },
  {
   "cell_type": "code",
   "execution_count": 6,
   "id": "9e618778-7f60-4f38-90ca-3331f33092e7",
   "metadata": {},
   "outputs": [],
   "source": [
    "prakriti_image = fr.load_image_file(\"prakriti.jpg\")\n",
    "prakriti_encoding = fr.face_encodings(prakriti_image)[0]\n"
   ]
  },
  {
   "cell_type": "code",
   "execution_count": 7,
   "id": "78df2729-282c-4c45-8f70-33670e9359c8",
   "metadata": {},
   "outputs": [],
   "source": [
    "atul_image = fr.load_image_file(\"atul.jpg\")\n",
    "atul_encoding = fr.face_encodings(atul_image)[0]"
   ]
  },
  {
   "cell_type": "code",
   "execution_count": 8,
   "id": "5cc48585-38c7-4a91-abaa-c531e4867fa5",
   "metadata": {},
   "outputs": [],
   "source": [
    "known_face_encodings =[ilma_encoding ,anshu_encoding ,prakriti_encoding, atul_encoding]"
   ]
  },
  {
   "cell_type": "code",
   "execution_count": 9,
   "id": "2eabd98f-15c9-48c9-a850-6de73e9104d1",
   "metadata": {},
   "outputs": [],
   "source": [
    "known_face_names=[\"ilma\", \"anshu \",\"prakriti\",\"atul\"]"
   ]
  },
  {
   "cell_type": "code",
   "execution_count": 10,
   "id": "fe9cbb91-06a0-4251-8ad5-6a74476ee93c",
   "metadata": {},
   "outputs": [],
   "source": [
    "while True:\n",
    "    ret,frame = video_capture.read()\n",
    "    rgb_frame = frame[:, :,::-1]\n",
    "    fc_locations = fr.face_locations(rgb_frame)\n",
    "    fc_encodings =fr.face_encodings(rgb_frame, fc_locations)\n",
    "    \n",
    "    for(top, right, bottom, left), face_encoding in zip(fc_locations, fc_encodings):\n",
    "        matches = fr.compare_faces(known_face_encodings, face_encoding)\n",
    "        \n",
    "        \n",
    "        name = \"unknown\"\n",
    "        \n",
    "        fc_distances = fr.face_distance(known_face_encodings, face_encoding)\n",
    "        \n",
    "        match_index = np.argmin(fc_distances)\n",
    "        \n",
    "        if matches[match_index]:\n",
    "            name= known_face_names[match_index]\n",
    "        cv2.rectangle(frame,(left ,top), (right, bottom), (255, 0, 0), 2)\n",
    "        \n",
    "        cv2.rectangle(frame,(left,bottom-35),(right,bottom),  (255, 0,0),cv2.FILLED )\n",
    "        \n",
    "        font = cv2.FONT_HERSHEY_SIMPLEX\n",
    "        \n",
    "        cv2.putText(frame, name, (left +6, bottom - 6),font, 1.0, (255, 255, 255),3)\n",
    "    \n",
    "    cv2.imshow(\"face detection system\",frame)\n",
    "    \n",
    "    if cv2.waitKey(1) & 0xFF == ord('q'):\n",
    "        break\n",
    "\n",
    "        \n",
    "        \n",
    "    \n",
    "        \n",
    "        \n",
    "video_capture.release()\n",
    "cv2.destroyAllWindows()"
   ]
  },
  {
   "cell_type": "code",
   "execution_count": null,
   "id": "f2c2e141-6c90-408f-ad40-5d3ed3bf867c",
   "metadata": {},
   "outputs": [],
   "source": []
  },
  {
   "cell_type": "code",
   "execution_count": null,
   "id": "6d190650-2eae-45df-bd77-c1ebf2b72041",
   "metadata": {},
   "outputs": [],
   "source": []
  },
  {
   "cell_type": "code",
   "execution_count": null,
   "id": "63550368-870e-4880-8ae4-41464bac90b3",
   "metadata": {},
   "outputs": [],
   "source": []
  },
  {
   "cell_type": "code",
   "execution_count": null,
   "id": "3abbe64d-f050-4741-bb57-feab5b252a49",
   "metadata": {},
   "outputs": [],
   "source": []
  },
  {
   "cell_type": "code",
   "execution_count": null,
   "id": "d3237289-a7cf-4b9e-a6a9-7a642c87fe6a",
   "metadata": {},
   "outputs": [],
   "source": []
  },
  {
   "cell_type": "code",
   "execution_count": null,
   "id": "86093863-94ac-4247-ad32-e6a8a1268fef",
   "metadata": {},
   "outputs": [],
   "source": []
  },
  {
   "cell_type": "code",
   "execution_count": null,
   "id": "dffcb8cc-7b08-4521-a370-6d14dd58ac98",
   "metadata": {},
   "outputs": [],
   "source": []
  },
  {
   "cell_type": "code",
   "execution_count": null,
   "id": "b4ffaeb8-efed-404a-b0eb-b01cdb30d2c2",
   "metadata": {},
   "outputs": [],
   "source": []
  }
 ],
 "metadata": {
  "kernelspec": {
   "display_name": "Python 3 (ipykernel)",
   "language": "python",
   "name": "python3"
  },
  "language_info": {
   "codemirror_mode": {
    "name": "ipython",
    "version": 3
   },
   "file_extension": ".py",
   "mimetype": "text/x-python",
   "name": "python",
   "nbconvert_exporter": "python",
   "pygments_lexer": "ipython3",
   "version": "3.9.0"
  }
 },
 "nbformat": 4,
 "nbformat_minor": 5
}
